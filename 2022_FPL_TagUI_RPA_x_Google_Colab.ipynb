{
  "cells": [
    {
      "cell_type": "markdown",
      "metadata": {
        "id": "view-in-github",
        "colab_type": "text"
      },
      "source": [
        "<a href=\"https://colab.research.google.com/github/strategyideas/FPL/blob/master/2022_FPL_TagUI_RPA_x_Google_Colab.ipynb\" target=\"_parent\"><img src=\"https://colab.research.google.com/assets/colab-badge.svg\" alt=\"Open In Colab\"/></a>"
      ]
    },
    {
      "cell_type": "markdown",
      "source": [
        "This program extracts data of the FPL Players"
      ],
      "metadata": {
        "id": "ogyNZ8JHpbbN"
      }
    },
    {
      "cell_type": "code",
      "execution_count": 1,
      "metadata": {
        "id": "iUhJOOEmYB-N",
        "colab": {
          "base_uri": "https://localhost:8080/"
        },
        "outputId": "39591b24-294a-422d-e0ca-38d6cdad0518"
      },
      "outputs": [
        {
          "output_type": "stream",
          "name": "stdout",
          "text": [
            "Drive already mounted at /content/drive; to attempt to forcibly remount, call drive.mount(\"/content/drive\", force_remount=True).\n"
          ]
        }
      ],
      "source": [
        "# from google.colab import drive\n",
        "# drive.mount('/content/drive')"
      ]
    },
    {
      "cell_type": "code",
      "execution_count": null,
      "metadata": {
        "id": "kl58MzRLyNgb"
      },
      "outputs": [],
      "source": [
        "# setup RPA environment by installing PHP, Chromium web browser and TagUI Linux version\n",
        "!apt-get update; apt install php; apt install chromium-browser; wget https://github.com/kelaberetiv/TagUI/releases/download/v6.110.0/TagUI_Linux.zip; \n",
        "!unzip TagUI_Linux.zip; cd tagui/src; ./tagui update; wget -O tagui https://gist.githubusercontent.com/kensoh/b12a350513268df5456165180dbee6a6/raw/8d16534a29ef2068fad9ce7fccd6cf4429258fdb/tagui\n",
        "\n",
        "# virtual display to run web browser normally (some websites reject headless mode)\n",
        "!apt install xvfb; pip install pyvirtualdisplay\n",
        "import pyvirtualdisplay; display = pyvirtualdisplay.Display(); display.start()"
      ]
    },
    {
      "cell_type": "code",
      "source": [
        "!tagui/src/tagui https://raw.githubusercontent.com/strategyideas/FPL/master/fpl_accept_cookies.tag\n"
      ],
      "metadata": {
        "id": "DHFbk55zspTp"
      },
      "execution_count": null,
      "outputs": []
    },
    {
      "cell_type": "code",
      "execution_count": null,
      "metadata": {
        "id": "YiZrvO9AcR6z"
      },
      "outputs": [],
      "source": [
        "!tagui/src/tagui https://raw.githubusercontent.com/strategyideas/FPL/master/fpl_current_points.tag"
      ]
    },
    {
      "cell_type": "code",
      "execution_count": null,
      "metadata": {
        "id": "kT6UnMFZst84"
      },
      "outputs": [],
      "source": [
        "# run fpl weekly data extract\n",
        "# !tagui/src/tagui https://raw.githubusercontent.com/strategyideas/FPL/master/run_fpllead.tag\n",
        "# !tagui/src/tagui https://raw.githubusercontent.com/strategyideas/FPL/master/mainfplleaders.tag\n",
        "# !tagui/src/tagui https://raw.githubusercontent.com/strategyideas/FPL/master/nextfpllead.tag\n",
        "\n",
        "# to send Telegram notification, first look up @taguibot to allow that\n",
        "# then in your TagUI workflow, include the following telegram step\n",
        "# telegram 1234567890 [RPA on Colab]\\ncloud automation completed"
      ]
    },
    {
      "cell_type": "code",
      "execution_count": null,
      "metadata": {
        "id": "rW8C5ArKudFR"
      },
      "outputs": [],
      "source": [
        "# run fpl weekly leaders extract\n",
        "#!tagui/src/tagui /content/drive/MyDrive/FPL/mainfplleaders.tag"
      ]
    },
    {
      "cell_type": "code",
      "execution_count": null,
      "metadata": {
        "id": "3pQC5ADdY8Kj"
      },
      "outputs": [],
      "source": [
        "# PS1 - use wget command to upload csv datafile or other files for your RPA to use\n",
        "# !wget https://raw.githubusercontent.com/kelaberetiv/TagUI/master/flows/samples/form_data.csv\n",
        "\n",
        "# PS2 - other ways to upload data to Google Colab cloud, for example files.upload()\n",
        "# https://towardsdatascience.com/3-ways-to-load-csv-files-into-colab-7c14fcbdcb92"
      ]
    }
  ],
  "metadata": {
    "colab": {
      "provenance": [],
      "include_colab_link": true
    },
    "kernelspec": {
      "display_name": "Python 3",
      "name": "python3"
    }
  },
  "nbformat": 4,
  "nbformat_minor": 0
}